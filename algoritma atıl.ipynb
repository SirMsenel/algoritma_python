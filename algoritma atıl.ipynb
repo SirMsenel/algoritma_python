{
 "cells": [
  {
   "cell_type": "code",
   "execution_count": null,
   "metadata": {},
   "outputs": [],
   "source": [
    "# Dizi , Liste algoritamaları\n",
    "# Array , List , Stack , Queue, Deque\n"
   ]
  },
  {
   "cell_type": "code",
   "execution_count": 10,
   "metadata": {},
   "outputs": [
    {
     "data": {
      "text/plain": [
       "[1, 2, 3, 4, 5, 6, 7, 8]"
      ]
     },
     "execution_count": 10,
     "metadata": {},
     "output_type": "execute_result"
    }
   ],
   "source": [
    "#Array : belirli sabit bir listedir. genel olarak ekleme, azaltma gibi değişiklikler zordur listeden en büyük farkı budur.\n",
    "#array numpy içersisinden ya da pyhton kendi kütüphanesinden import edilir.\n",
    "\n",
    "myList = [1,2,3,4,5]\n",
    "otherList = [6,7,8]\n",
    "myList.extend(otherList)\n",
    "myList"
   ]
  },
  {
   "cell_type": "code",
   "execution_count": 13,
   "metadata": {},
   "outputs": [
    {
     "name": "stdout",
     "output_type": "stream",
     "text": [
      "Length : 0 Byte : 56\n",
      "Length : 1 Byte : 88\n",
      "Length : 2 Byte : 88\n",
      "Length : 3 Byte : 88\n",
      "Length : 4 Byte : 88\n",
      "Length : 5 Byte : 120\n",
      "Length : 6 Byte : 120\n",
      "Length : 7 Byte : 120\n",
      "Length : 8 Byte : 120\n",
      "Length : 9 Byte : 184\n",
      "Length : 10 Byte : 184\n",
      "Length : 11 Byte : 184\n",
      "Length : 12 Byte : 184\n",
      "Length : 13 Byte : 184\n",
      "Length : 14 Byte : 184\n"
     ]
    }
   ],
   "source": [
    "#sys kütüphanesş bellekteki kaplanan alanı ölçer\n",
    "\n",
    "import sys\n",
    "n = 15 \n",
    "myDynamicArray =[]\n",
    "for i in range(n):\n",
    "    myLength = len(myDynamicArray)\n",
    "    myByte = sys.getsizeof(myDynamicArray)\n",
    "    print(f\"Length : {myLength} Byte : {myByte}\")\n",
    "    myDynamicArray.append(n)\n"
   ]
  },
  {
   "cell_type": "code",
   "execution_count": 19,
   "metadata": {},
   "outputs": [
    {
     "data": {
      "text/plain": [
       "4"
      ]
     },
     "execution_count": 19,
     "metadata": {},
     "output_type": "execute_result"
    }
   ],
   "source": [
    "def singleNumber() :\n",
    "    myList = [3,5,7,4,3,7,5]\n",
    "    result = 0\n",
    "    for num in myList:\n",
    "        result = num ^ result\n",
    "    return result\n",
    "singleNumber()"
   ]
  },
  {
   "cell_type": "code",
   "execution_count": 20,
   "metadata": {},
   "outputs": [
    {
     "data": {
      "text/plain": [
       "1"
      ]
     },
     "execution_count": 20,
     "metadata": {},
     "output_type": "execute_result"
    }
   ],
   "source": [
    "#major number\n",
    "myList1 = [2,3,4,1,1,1,1,1,1,5]\n",
    "\n",
    "def findMajority():\n",
    "    numbers = {}\n",
    "    result = 0 \n",
    "    maxNumber = 0 \n",
    "\n",
    "    for num in myList1:\n",
    "        numbers[num] = 1 + numbers.get(num,0)\n",
    "        if numbers[num] > maxNumber :\n",
    "            result = num\n",
    "        maxNumber = max(maxNumber,numbers[num])\n",
    "    return result\n",
    "\n",
    "findMajority()"
   ]
  },
  {
   "cell_type": "code",
   "execution_count": null,
   "metadata": {},
   "outputs": [],
   "source": []
  }
 ],
 "metadata": {
  "kernelspec": {
   "display_name": "Python 3",
   "language": "python",
   "name": "python3"
  },
  "language_info": {
   "codemirror_mode": {
    "name": "ipython",
    "version": 3
   },
   "file_extension": ".py",
   "mimetype": "text/x-python",
   "name": "python",
   "nbconvert_exporter": "python",
   "pygments_lexer": "ipython3",
   "version": "3.11.4"
  }
 },
 "nbformat": 4,
 "nbformat_minor": 2
}
