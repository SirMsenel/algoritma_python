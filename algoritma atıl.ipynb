{
 "cells": [
  {
   "cell_type": "code",
   "execution_count": 1,
   "metadata": {},
   "outputs": [],
   "source": [
    "# Dizi , Liste algoritamaları\n",
    "# Array , List , Stack , Queue, Deque\n"
   ]
  },
  {
   "cell_type": "code",
   "execution_count": 2,
   "metadata": {},
   "outputs": [
    {
     "data": {
      "text/plain": [
       "[1, 2, 3, 4, 5, 6, 7, 8]"
      ]
     },
     "execution_count": 2,
     "metadata": {},
     "output_type": "execute_result"
    }
   ],
   "source": [
    "#Array : belirli sabit bir listedir. genel olarak ekleme, azaltma gibi değişiklikler zordur listeden en büyük farkı budur.\n",
    "#array numpy içersisinden ya da pyhton kendi kütüphanesinden import edilir.\n",
    "\n",
    "myList = [1,2,3,4,5]\n",
    "otherList = [6,7,8]\n",
    "myList.extend(otherList)\n",
    "myList"
   ]
  },
  {
   "cell_type": "code",
   "execution_count": 3,
   "metadata": {},
   "outputs": [
    {
     "name": "stdout",
     "output_type": "stream",
     "text": [
      "Length : 0 Byte : 56\n",
      "Length : 1 Byte : 88\n",
      "Length : 2 Byte : 88\n",
      "Length : 3 Byte : 88\n",
      "Length : 4 Byte : 88\n",
      "Length : 5 Byte : 120\n",
      "Length : 6 Byte : 120\n",
      "Length : 7 Byte : 120\n",
      "Length : 8 Byte : 120\n",
      "Length : 9 Byte : 184\n",
      "Length : 10 Byte : 184\n",
      "Length : 11 Byte : 184\n",
      "Length : 12 Byte : 184\n",
      "Length : 13 Byte : 184\n",
      "Length : 14 Byte : 184\n"
     ]
    }
   ],
   "source": [
    "#sys kütüphanesş bellekteki kaplanan alanı ölçer\n",
    "\n",
    "import sys\n",
    "n = 15 \n",
    "myDynamicArray =[]\n",
    "for i in range(n):\n",
    "    myLength = len(myDynamicArray)\n",
    "    myByte = sys.getsizeof(myDynamicArray)\n",
    "    print(f\"Length : {myLength} Byte : {myByte}\")\n",
    "    myDynamicArray.append(n)\n"
   ]
  },
  {
   "cell_type": "code",
   "execution_count": 4,
   "metadata": {},
   "outputs": [
    {
     "data": {
      "text/plain": [
       "4"
      ]
     },
     "execution_count": 4,
     "metadata": {},
     "output_type": "execute_result"
    }
   ],
   "source": [
    "def singleNumber() :\n",
    "    myList = [3,5,7,4,3,7,5]\n",
    "    result = 0\n",
    "    for num in myList:\n",
    "        result = num ^ result\n",
    "    return result\n",
    "singleNumber()"
   ]
  },
  {
   "cell_type": "code",
   "execution_count": 5,
   "metadata": {},
   "outputs": [
    {
     "data": {
      "text/plain": [
       "1"
      ]
     },
     "execution_count": 5,
     "metadata": {},
     "output_type": "execute_result"
    }
   ],
   "source": [
    "#major number\n",
    "myList1 = [2,3,4,1,1,1,1,1,1,5]\n",
    "\n",
    "def findMajority():\n",
    "    numbers = {}\n",
    "    result = 0 \n",
    "    maxNumber = 0 \n",
    "\n",
    "    for num in myList1:\n",
    "        numbers[num] = 1 + numbers.get(num,0)\n",
    "        if numbers[num] > maxNumber :\n",
    "            result = num\n",
    "        maxNumber = max(maxNumber,numbers[num])\n",
    "    return result\n",
    "\n",
    "findMajority()"
   ]
  },
  {
   "cell_type": "markdown",
   "metadata": {},
   "source": [
    "Stack,Ordered,LIFO,Top & Base"
   ]
  },
  {
   "cell_type": "code",
   "execution_count": 6,
   "metadata": {},
   "outputs": [],
   "source": [
    "##koyma-ekleme işlemine \"push\"\n",
    "##çıkarma-silme işlemine \"pop\" denir.\n",
    "## en son eklenen eleman ilk çıkarılına elemandır ve bunun adına LIFO'dur.\n",
    "##Qeue 'de ilk girene \"dequeue\" denir. son girene ise \"enqueue\" denir. stackin tam tersi şekilde çalışır. son giren en son çıkar.\n",
    "##Deque ise hem stcaği hemde queue yi içinde bulunduur.prensibi yoktur. ister sondan ekle önden çıkar , ister sondan ekle sondan çıkar.\n"
   ]
  },
  {
   "cell_type": "code",
   "execution_count": 7,
   "metadata": {},
   "outputs": [],
   "source": [
    "myList = []"
   ]
  },
  {
   "cell_type": "code",
   "execution_count": 8,
   "metadata": {},
   "outputs": [
    {
     "data": {
      "text/plain": [
       "[1, 2]"
      ]
     },
     "execution_count": 8,
     "metadata": {},
     "output_type": "execute_result"
    }
   ],
   "source": [
    "myList.append(1)\n",
    "myList.append(2)\n",
    "myList"
   ]
  },
  {
   "cell_type": "code",
   "execution_count": 10,
   "metadata": {},
   "outputs": [
    {
     "data": {
      "text/plain": [
       "[1, 2, 3, 3]"
      ]
     },
     "execution_count": 10,
     "metadata": {},
     "output_type": "execute_result"
    }
   ],
   "source": [
    "myList.append(3)\n",
    "myList"
   ]
  },
  {
   "cell_type": "code",
   "execution_count": 14,
   "metadata": {},
   "outputs": [
    {
     "data": {
      "text/plain": [
       "3"
      ]
     },
     "execution_count": 14,
     "metadata": {},
     "output_type": "execute_result"
    }
   ],
   "source": [
    "myList.pop()"
   ]
  },
  {
   "cell_type": "code",
   "execution_count": 15,
   "metadata": {},
   "outputs": [
    {
     "data": {
      "text/plain": [
       "[1, 2]"
      ]
     },
     "execution_count": 15,
     "metadata": {},
     "output_type": "execute_result"
    }
   ],
   "source": [
    "myList"
   ]
  },
  {
   "cell_type": "code",
   "execution_count": 16,
   "metadata": {},
   "outputs": [],
   "source": [
    "from queue import LifoQueue"
   ]
  },
  {
   "cell_type": "code",
   "execution_count": 18,
   "metadata": {},
   "outputs": [],
   "source": [
    "lifoQueue = LifoQueue()\n",
    "lifoQueue.put(1)"
   ]
  },
  {
   "cell_type": "code",
   "execution_count": 19,
   "metadata": {},
   "outputs": [],
   "source": [
    "lifoQueue.put(10)\n",
    "lifoQueue.put(20)"
   ]
  },
  {
   "cell_type": "code",
   "execution_count": 21,
   "metadata": {},
   "outputs": [
    {
     "data": {
      "text/plain": [
       "10"
      ]
     },
     "execution_count": 21,
     "metadata": {},
     "output_type": "execute_result"
    }
   ],
   "source": [
    "lifoQueue.get()\n",
    "## en son ekleneni gösterir ve onu çıkartır\n"
   ]
  },
  {
   "cell_type": "code",
   "execution_count": 22,
   "metadata": {},
   "outputs": [],
   "source": [
    "from queue import Queue"
   ]
  },
  {
   "cell_type": "code",
   "execution_count": 23,
   "metadata": {},
   "outputs": [],
   "source": [
    "myQueue = Queue()"
   ]
  },
  {
   "cell_type": "code",
   "execution_count": 24,
   "metadata": {},
   "outputs": [],
   "source": [
    "myQueue.put(1)\n",
    "myQueue.put(10)\n",
    "myQueue.put(20)"
   ]
  },
  {
   "cell_type": "code",
   "execution_count": 25,
   "metadata": {},
   "outputs": [
    {
     "data": {
      "text/plain": [
       "1"
      ]
     },
     "execution_count": 25,
     "metadata": {},
     "output_type": "execute_result"
    }
   ],
   "source": [
    "myQueue.get()\n",
    "##tersten vermeye başlar , ilk eklenen ilk gider."
   ]
  },
  {
   "cell_type": "code",
   "execution_count": 26,
   "metadata": {},
   "outputs": [],
   "source": [
    "from collections import deque"
   ]
  },
  {
   "cell_type": "code",
   "execution_count": 29,
   "metadata": {},
   "outputs": [
    {
     "data": {
      "text/plain": [
       "deque([10, 20, 30])"
      ]
     },
     "execution_count": 29,
     "metadata": {},
     "output_type": "execute_result"
    }
   ],
   "source": [
    "myDeque = deque()\n",
    "myDeque.append(10)\n",
    "myDeque.append(20)\n",
    "myDeque.append(30)\n",
    "myDeque"
   ]
  },
  {
   "cell_type": "code",
   "execution_count": 31,
   "metadata": {},
   "outputs": [
    {
     "data": {
      "text/plain": [
       "deque([40, 40, 10, 20, 30])"
      ]
     },
     "execution_count": 31,
     "metadata": {},
     "output_type": "execute_result"
    }
   ],
   "source": [
    "myDeque.appendleft(40)\n",
    "myDeque\n",
    "##çift taraflı ekleme veya silme imkanı sunar"
   ]
  },
  {
   "cell_type": "code",
   "execution_count": 34,
   "metadata": {},
   "outputs": [
    {
     "data": {
      "text/plain": [
       "deque([10, 20, 30])"
      ]
     },
     "execution_count": 34,
     "metadata": {},
     "output_type": "execute_result"
    }
   ],
   "source": [
    "myDeque.popleft()\n",
    "myDeque"
   ]
  },
  {
   "cell_type": "markdown",
   "metadata": {},
   "source": [
    "Stacklmplementation"
   ]
  },
  {
   "cell_type": "code",
   "execution_count": 35,
   "metadata": {},
   "outputs": [
    {
     "data": {
      "text/plain": [
       "'\\nstack()\\npush(item)\\npop()\\nshowLast()\\nsize()\\nisEmpty()\\n\\ngibi metodlardan faydalanacağız.\\n'"
      ]
     },
     "execution_count": 35,
     "metadata": {},
     "output_type": "execute_result"
    }
   ],
   "source": [
    "'''\n",
    "stack()\n",
    "push(item)\n",
    "pop()\n",
    "showLast()\n",
    "size()\n",
    "isEmpty()\n",
    "\n",
    "gibi metodlardan faydalanacağız.\n",
    "'''"
   ]
  },
  {
   "cell_type": "code",
   "execution_count": 39,
   "metadata": {},
   "outputs": [],
   "source": [
    "class Stack():\n",
    "    def __init__(self) :\n",
    "        self.elements = []\n",
    "\n",
    "    def isEmpty(self):\n",
    "        return self.elements == []\n",
    "    \n",
    "    def push(self,elements):\n",
    "        self.elements.append(elements)\n",
    "\n",
    "    def pop(self):\n",
    "        return self.elements.pop()\n",
    "\n",
    "    def showLast(self):\n",
    "        return self.elements[len(self.elements) - 1]\n",
    "    \n",
    "    def size(self):\n",
    "        return len(self.elements)"
   ]
  },
  {
   "cell_type": "code",
   "execution_count": 40,
   "metadata": {},
   "outputs": [],
   "source": [
    "myStack = Stack()"
   ]
  },
  {
   "cell_type": "code",
   "execution_count": 41,
   "metadata": {},
   "outputs": [
    {
     "data": {
      "text/plain": [
       "True"
      ]
     },
     "execution_count": 41,
     "metadata": {},
     "output_type": "execute_result"
    }
   ],
   "source": [
    "myStack.isEmpty()"
   ]
  },
  {
   "cell_type": "code",
   "execution_count": 46,
   "metadata": {},
   "outputs": [
    {
     "data": {
      "text/plain": [
       "False"
      ]
     },
     "execution_count": 46,
     "metadata": {},
     "output_type": "execute_result"
    }
   ],
   "source": [
    "myStack.push(\"a\")\n",
    "myStack.push(40)\n",
    "myStack.isEmpty()"
   ]
  },
  {
   "cell_type": "code",
   "execution_count": 48,
   "metadata": {},
   "outputs": [
    {
     "data": {
      "text/plain": [
       "True"
      ]
     },
     "execution_count": 48,
     "metadata": {},
     "output_type": "execute_result"
    }
   ],
   "source": [
    "myStack.pop()\n",
    "myStack.isEmpty()"
   ]
  },
  {
   "cell_type": "code",
   "execution_count": null,
   "metadata": {},
   "outputs": [],
   "source": []
  }
 ],
 "metadata": {
  "kernelspec": {
   "display_name": "Python 3",
   "language": "python",
   "name": "python3"
  },
  "language_info": {
   "codemirror_mode": {
    "name": "ipython",
    "version": 3
   },
   "file_extension": ".py",
   "mimetype": "text/x-python",
   "name": "python",
   "nbconvert_exporter": "python",
   "pygments_lexer": "ipython3",
   "version": "3.11.4"
  }
 },
 "nbformat": 4,
 "nbformat_minor": 2
}
