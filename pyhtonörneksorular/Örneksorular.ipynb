{
 "cells": [
  {
   "cell_type": "code",
   "execution_count": 3,
   "metadata": {},
   "outputs": [
    {
     "data": {
      "text/plain": [
       "[3, 8, 6, 5, 4]"
      ]
     },
     "execution_count": 3,
     "metadata": {},
     "output_type": "execute_result"
    }
   ],
   "source": [
    "def asc(list1):\n",
    "    odd = [i for i in list1 if i % 2]\n",
    "    odd = sorted(odd)\n",
    "\n",
    "    k = 0\n",
    "    result =[]\n",
    "    for i in list1:\n",
    "        if i % 2 :\n",
    "            result.append(odd[k])\n",
    "            k += 1 \n",
    "        else:\n",
    "            result.append(i)\n",
    "    return result \n",
    "\n",
    "asc([5,8,6,3,4])"
   ]
  },
  {
   "cell_type": "code",
   "execution_count": 14,
   "metadata": {},
   "outputs": [
    {
     "name": "stdout",
     "output_type": "stream",
     "text": [
      "['1', '2', '3', '3', '2', '5', '3', '4']\n",
      "['6']\n"
     ]
    }
   ],
   "source": [
    "#sayı sıralama\n",
    "\n",
    "list1 = input()\n",
    "\n",
    "list2 = []\n",
    "for i in range(0,len(list1)):\n",
    "    if list1[i] < max(list1[i: ]):\n",
    "        list2.append(list1[i])\n",
    "print(list2)\n",
    "other = {i for i in list1 if i not in list2}\n",
    "print(sorted(list(other),reverse=True))\n"
   ]
  },
  {
   "cell_type": "code",
   "execution_count": 21,
   "metadata": {},
   "outputs": [
    {
     "name": "stdout",
     "output_type": "stream",
     "text": [
      "2.0\n",
      "1.0\n",
      "max number is : 2.0\n"
     ]
    }
   ],
   "source": [
    "#collatz sayı dizisi\n",
    "\n",
    "num = int(input(\"Please enter a possitive number:\"))\n",
    "\n",
    "num_list = []\n",
    "while num != 1:\n",
    "    if num % 2 == 0 :\n",
    "        num = num / 2\n",
    "    elif num % 2 == 1 :\n",
    "        num = num * 3 + 1\n",
    "    num_list.append(num)\n",
    "    print(num)\n",
    "print(f\"max number is : {max(num_list)}\") "
   ]
  },
  {
   "cell_type": "code",
   "execution_count": 28,
   "metadata": {},
   "outputs": [
    {
     "data": {
      "text/plain": [
       "22"
      ]
     },
     "execution_count": 28,
     "metadata": {},
     "output_type": "execute_result"
    }
   ],
   "source": [
    "#n öğrenci ve n dolap problemi\n",
    "\n",
    "def locker(x):\n",
    "    locker = [0 for i in range(x)]\n",
    "    for i in range(x):\n",
    "        for j in range(i,x,i+1):\n",
    "            if locker[j] == 0 :\n",
    "                locker[j] = 1\n",
    "            elif locker[j] == 1 :\n",
    "                locker[j] = 0\n",
    "    return locker.count(1)\n",
    "\n",
    "locker(500)\n",
    "\n"
   ]
  },
  {
   "cell_type": "code",
   "execution_count": 29,
   "metadata": {},
   "outputs": [],
   "source": [
    "#eşleştirme fornksiyonu\n",
    "\n",
    "def pairs(list1):\n",
    "    list_new = []\n",
    "    for i in range(len(list1) // 2):\n",
    "        list_new.append([list1[i],list1[-1-i]])\n",
    "    if len(list1) % 2 == 1 :\n",
    "        list_new.append([list1[len(list1) // 2],list1[len(list1) // 2]])\n",
    "    return list_new\n"
   ]
  },
  {
   "cell_type": "code",
   "execution_count": 1,
   "metadata": {},
   "outputs": [],
   "source": [
    "#scramble oyunu \n",
    "\n",
    "def scramble(str1,str2):\n",
    "    a = set(str1)\n",
    "    count = 0 \n",
    "    for i in str2:\n",
    "        if i in a :\n",
    "            count += 1\n",
    "    if count == len(str2):\n",
    "        return True\n",
    "    else:\n",
    "        return False\n"
   ]
  },
  {
   "cell_type": "code",
   "execution_count": 3,
   "metadata": {},
   "outputs": [
    {
     "name": "stdout",
     "output_type": "stream",
     "text": [
      "Play a Game\n",
      "berabere\n",
      "Oyun Bitti\n"
     ]
    }
   ],
   "source": [
    "#taş kağıt makas\n",
    "print(\"Play a Game\")\n",
    "a = input(\"Taş,kagıt,makas oynamak ister misin ? (evet veya hayır)\").lower()\n",
    "import random\n",
    "pc_list = [\"taş\",\"kagıt\",\"makas\"]\n",
    "while a == \"evet\" :\n",
    "    pc = pc_list[random.randint(0,2)]\n",
    "    you = input(\"Birisini seciniz >> taş,kagıt,makas\").lower()\n",
    "    if (pc == \"taş\" and you == \"makas\") or (pc == \"kagıt\" and you == \"taş\") or (pc == \"makas\" and you == \"kagıt\") :\n",
    "        s = \"bilgisayar kazandı\"\n",
    "    elif (pc == \"makas\" and you == \"makas\") or (pc == \"taş\" and you == \"taş\") or (pc == \"kagıt\" and you == \"kagıt\") :\n",
    "        s = \"berabere\"\n",
    "    else :\n",
    "        s = \"hatalı seçim\"\n",
    "    print(s)\n",
    "    a = input(\"Taş,kagıt,makas oynamak ister misin ? (evet veya hayır)\").lower()\n",
    "print(\"Oyun Bitti\")"
   ]
  },
  {
   "cell_type": "code",
   "execution_count": 7,
   "metadata": {},
   "outputs": [
    {
     "name": "stdout",
     "output_type": "stream",
     "text": [
      "0 and 3\n",
      "1 and 2\n",
      "2 and 1\n",
      "3 and 0\n",
      "4 and 5\n",
      "5 and 4\n"
     ]
    }
   ],
   "source": [
    "def target(list1,target_num):\n",
    "    a = []\n",
    "    b = []\n",
    "    for i in list1 :\n",
    "        for j in list1 :\n",
    "            if i + j == target_num:\n",
    "                a.append(list1.index(i))\n",
    "                b.append(list1.index(j))\n",
    "    \n",
    "    k = 0\n",
    "    while k < len(a) :\n",
    "        print(f\"{a[k]} and {b[k]}\")\n",
    "        k += 1\n",
    "target([2,8,9,15,5,12],17)      "
   ]
  },
  {
   "cell_type": "code",
   "execution_count": 13,
   "metadata": {},
   "outputs": [
    {
     "name": "stdout",
     "output_type": "stream",
     "text": [
      "Girdiğiniz sayının faktöriyeli: 5! = 120\n"
     ]
    }
   ],
   "source": [
    "#faktöriyel1\n",
    "\n",
    "def hesapla_faktoriyel(number):\n",
    "    factorial = 1\n",
    "    if number >= 0:\n",
    "        for i in range(1, number + 1):\n",
    "            factorial *= i\n",
    "        return factorial\n",
    "    else:\n",
    "        return None\n",
    " \n",
    "number = int(input(\"Lütfen faktöriyelini bulmak istediğiniz sayıyı giriniz...\\n\"))\n",
    "factorial = hesapla_faktoriyel(number)\n",
    " \n",
    "if factorial:\n",
    "    print(f\"Girdiğiniz sayının faktöriyeli: {number}! = {factorial}\")\n",
    "else:\n",
    "    print(\"Negatif sayıların faktöriyeli olmaz!\")\n"
   ]
  },
  {
   "cell_type": "code",
   "execution_count": 30,
   "metadata": {},
   "outputs": [
    {
     "name": "stdout",
     "output_type": "stream",
     "text": [
      "    1\n",
      "   123\n",
      "  12345\n",
      " 1234567\n",
      "123456789\n"
     ]
    }
   ],
   "source": [
    "#sayı piramidi\n",
    "def print_number_pyramid(rows):\n",
    "    for i in range(1, rows + 1) :\n",
    "        for j in range(rows - i):\n",
    "            print(\" \",end=\"\")\n",
    "        for j in range(2 * i - 1):\n",
    "            print(j + 1,end=\"\")\n",
    "        print()\n",
    "\n",
    "print_number_pyramid(5)\n"
   ]
  },
  {
   "cell_type": "code",
   "execution_count": 1,
   "metadata": {},
   "outputs": [],
   "source": [
    "\n",
    "# Kelime çevirici\n",
    "\n",
    "word = input(\"Enter a sentence or word\")\n",
    "\n",
    "def cyrpto(word):\n",
    "    alphabet = \"abcçdefgğhıijklmnoöprsştuüvyz\"\n",
    "    rot_7 =    \"fgğhıijklmnoöprsştuüvyzabcçde\"\n",
    "\n",
    "    new = \"\"\n",
    "\n",
    "    for i in word :\n",
    "        if i.isupper():\n",
    "            new += (rot_7[alphabet.index(i.lower())]).upper()\n",
    "        elif i.islower():\n",
    "            new += rot_7[alphabet.index(i)]\n",
    "        else :\n",
    "            new += i\n",
    "    return new\n",
    "\n"
   ]
  },
  {
   "cell_type": "code",
   "execution_count": 1,
   "metadata": {},
   "outputs": [
    {
     "name": "stdout",
     "output_type": "stream",
     "text": [
      "[['eat', 'tea', 'eat'], ['tan', 'nat'], ['bat']]\n"
     ]
    }
   ],
   "source": [
    "#anagram kelimeler\n",
    "list1 = [\"eat\",\"tea\",\"tan\",\"eat\",\"nat\",\"bat\"]\n",
    "result = {}\n",
    "for item in list1:\n",
    "    x = \"\".join(sorted(item))\n",
    "    if x not in result:\n",
    "        result[x] = [item]\n",
    "    else :\n",
    "        result[x].append(item)\n",
    "print(list(result.values()))"
   ]
  },
  {
   "cell_type": "code",
   "execution_count": 2,
   "metadata": {},
   "outputs": [
    {
     "data": {
      "text/plain": [
       "[(5, 2), (1, 3)]"
      ]
     },
     "execution_count": 2,
     "metadata": {},
     "output_type": "execute_result"
    }
   ],
   "source": [
    "def nearist_points(list5,cen,k):\n",
    "    result = []\n",
    "    for i in list5:\n",
    "        a = ((i[0] - cen[0]) ** 2 + (i[1] - cen[1]) ** 2) ** 0.5\n",
    "        result.append([a,i])\n",
    "    \n",
    "    return[v for k,v in sorted(result)[:k]]\n",
    "nearist_points([(1,3),(5,2),(2,4)],(4,1),2)"
   ]
  },
  {
   "cell_type": "code",
   "execution_count": 1,
   "metadata": {},
   "outputs": [
    {
     "name": "stdout",
     "output_type": "stream",
     "text": [
      " has 0 cow,0 bull\n",
      " has 0 cow,0 bull\n",
      "1234 has 0 cow,1 bull\n",
      "2345 has 1 cow,0 bull\n",
      "3456 has 0 cow,1 bull\n",
      "0123 has 0 cow,1 bull\n",
      " has 0 cow,0 bull\n",
      " has 0 cow,0 bull\n",
      " has 0 cow,0 bull\n",
      " has 0 cow,0 bull\n",
      " has 0 cow,0 bull\n",
      " has 0 cow,0 bull\n",
      " has 0 cow,0 bull\n",
      " has 0 cow,0 bull\n",
      " has 0 cow,0 bull\n",
      " has 0 cow,0 bull\n"
     ]
    }
   ],
   "source": [
    "#cow  and bull\n",
    "\n",
    "import random\n",
    "number = \"\".join(random.sample(\"0123456789\",4))\n",
    "cow,bull = 0,0\n",
    "count = 0\n",
    "while cow < len(number):\n",
    "    guess = input(\"Enter a 4 digit\")\n",
    "    cow,bull = 0,0\n",
    "    for ind,i in enumerate(guess):\n",
    "        if i in number:\n",
    "            if ind == number.index(i):\n",
    "                cow +=1\n",
    "            else:\n",
    "                bull +=1\n",
    "    count += 1\n",
    "    print(f\"{guess} has {cow} cow,{bull} bull\")\n",
    "\n",
    "print(f\"Congrats.Number of try : {count}\")\n"
   ]
  },
  {
   "cell_type": "code",
   "execution_count": null,
   "metadata": {},
   "outputs": [],
   "source": []
  },
  {
   "cell_type": "code",
   "execution_count": null,
   "metadata": {},
   "outputs": [],
   "source": []
  }
 ],
 "metadata": {
  "kernelspec": {
   "display_name": "Python 3",
   "language": "python",
   "name": "python3"
  },
  "language_info": {
   "codemirror_mode": {
    "name": "ipython",
    "version": 3
   },
   "file_extension": ".py",
   "mimetype": "text/x-python",
   "name": "python",
   "nbconvert_exporter": "python",
   "pygments_lexer": "ipython3",
   "version": "3.11.4"
  }
 },
 "nbformat": 4,
 "nbformat_minor": 2
}
