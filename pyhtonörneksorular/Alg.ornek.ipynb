{
 "cells": [
  {
   "cell_type": "markdown",
   "metadata": {},
   "source": [
    "baseball game\n",
    "\n",
    "You are keeping score for a baseball game with strange rules. The game consists of several rounds, where the scores of past rounds may affect future rounds' scores.\n",
    "\n",
    "At the beginning of the game, you start with an empty record. You are given a list of strings ops, where ops[i] is the ith operation you must apply to the record and is one of the following:\n",
    "\n",
    "An integer x - Record a new score of x.\n",
    "\"+\" - Record a new score that is the sum of the previous two scores. It is guaranteed there will always be two previous scores.\n",
    "\"D\" - Record a new score that is double the previous score. It is guaranteed there will always be a previous score.\n",
    "\"C\" - Invalidate the previous score, removing it from the record. It is guaranteed there will always be a previous score.\n",
    "Return the sum of all the scores on the record. The test cases are generated so that the answer fits in a 32-bit integer."
   ]
  },
  {
   "cell_type": "code",
   "execution_count": 2,
   "metadata": {},
   "outputs": [],
   "source": [
    "def points():\n",
    "    myInput = [\"5\",\"2\",\"C\",\"D\",\"+\"]\n",
    "    myStack = []\n",
    "    for op in myInput :\n",
    "        if op == \"C\" :\n",
    "            myStack.pop()\n",
    "        elif op == \"+\":\n",
    "            myStack.append(myStack[-1]+myStack[-2])\n",
    "        elif op == \"D\" :\n",
    "            myStack.append(2 * myStack[-1])\n",
    "        else :\n",
    "            myStack.append(int(op)) \n",
    "    return sum(myStack)"
   ]
  },
  {
   "cell_type": "code",
   "execution_count": 3,
   "metadata": {},
   "outputs": [
    {
     "data": {
      "text/plain": [
       "30"
      ]
     },
     "execution_count": 3,
     "metadata": {},
     "output_type": "execute_result"
    }
   ],
   "source": [
    "points()"
   ]
  },
  {
   "cell_type": "markdown",
   "metadata": {},
   "source": [
    "Daily temperatures\n",
    "\n",
    "'''\n",
    "Given an array of integers temperatures represents the daily temperatures, return an array answer such that answer[i] is the number of days you have to wait after the ith day to get a warmer temperature. \n",
    "If there is no future day for which this is possible, keep answer[i] == 0 instead.\n",
    "'''\n"
   ]
  },
  {
   "cell_type": "code",
   "execution_count": 23,
   "metadata": {},
   "outputs": [],
   "source": [
    "def solution(temperatures):\n",
    "    \n",
    "    n = len(temperatures)\n",
    "    answer = [0] * n\n",
    "    stack = []\n",
    "\n",
    "    for i in range(n):\n",
    "        # Check if the current temperature is higher than the temperature at the top index of the stack\n",
    "        while stack and temperatures[i] > temperatures[stack[-1]]:\n",
    "            prev_index = stack.pop()\n",
    "            answer[prev_index] = i - prev_index\n",
    "        stack.append(i)\n",
    "\n",
    "    return answer\n"
   ]
  },
  {
   "cell_type": "code",
   "execution_count": 26,
   "metadata": {},
   "outputs": [
    {
     "name": "stdout",
     "output_type": "stream",
     "text": [
      "[1, 1, 4, 2, 1, 1, 0, 0]\n"
     ]
    }
   ],
   "source": [
    "temperatures = [73, 74, 75, 71, 69, 72, 76, 73]\n",
    "result = solution(temperatures)\n",
    "print(result)  # Output should be [1, 1, 4, 2, 1, 1, 0, 0]\n"
   ]
  },
  {
   "cell_type": "markdown",
   "metadata": {},
   "source": [
    "Remove NTth node from end of list"
   ]
  },
  {
   "cell_type": "code",
   "execution_count": 32,
   "metadata": {},
   "outputs": [],
   "source": [
    "class ListNode:\n",
    "    def __init__(self, val=0, next=None):\n",
    "        self.val = val\n",
    "        self.next = next\n",
    "\n",
    "def removeNthFromEnd(head, n):\n",
    "    dummy = ListNode(0)\n",
    "    dummy.next = head\n",
    "    first = dummy\n",
    "    second = dummy\n",
    "\n",
    "    # Move first pointer n+1 steps ahead\n",
    "    for _ in range(n + 1):\n",
    "        first = first.next\n",
    "\n",
    "    # Move both pointers until first reaches the end\n",
    "    while first:\n",
    "        first = first.next\n",
    "        second = second.next\n",
    "\n",
    "    # Skip the nth node\n",
    "    second.next = second.next.next\n",
    "\n",
    "    return dummy.next\n",
    "\n",
    "# Helper function to create a linked list from a list of values\n",
    "def create_linked_list(values):\n",
    "    head = ListNode(values[0])\n",
    "    current = head\n",
    "    for value in values[1:]:\n",
    "        current.next = ListNode(value)\n",
    "        current = current.next\n",
    "    return head\n",
    "\n",
    "# Helper function to print a linked list\n",
    "def print_linked_list(head):\n",
    "    current = head\n",
    "    while current:\n",
    "        print(current.val, end=\" -> \")\n",
    "        current = current.next\n",
    "    print(\"None\")\n",
    "\n",
    "\n"
   ]
  },
  {
   "cell_type": "code",
   "execution_count": 31,
   "metadata": {},
   "outputs": [
    {
     "name": "stdout",
     "output_type": "stream",
     "text": [
      "1 -> 2 -> 3 -> 5 -> None\n"
     ]
    }
   ],
   "source": [
    "# Example\n",
    "head = create_linked_list([1, 2, 3, 4, 5])\n",
    "n = 2\n",
    "new_head = removeNthFromEnd(head, n)\n",
    "print_linked_list(new_head)  # Expected output: 1 -> 2 -> 3 -> 5 -> None"
   ]
  },
  {
   "cell_type": "code",
   "execution_count": 38,
   "metadata": {},
   "outputs": [
    {
     "name": "stdout",
     "output_type": "stream",
     "text": [
      "1 -> 2 -> 3 -> 4 -> 5 -> 7 -> 9 -> 2 -> 4 -> None\n"
     ]
    }
   ],
   "source": [
    "a = removeNthFromEnd(create_linked_list([1, 2, 3, 4, 5,6,7,9,2,4]), 5)\n",
    "print_linked_list(a)\n"
   ]
  },
  {
   "cell_type": "markdown",
   "metadata": {},
   "source": [
    "Finde the Duplicate Number"
   ]
  },
  {
   "cell_type": "markdown",
   "metadata": {},
   "source": [
    "Given an array of integers nums containing n + 1 integers where each integer is in the range [1, n] inclusive.\n",
    "\n",
    "There is only one repeated number in nums, return this repeated number.\n",
    "\n",
    "You must solve the problem without modifying the array nums and uses only constant extra space.\n",
    "\n"
   ]
  },
  {
   "cell_type": "code",
   "execution_count": 41,
   "metadata": {},
   "outputs": [],
   "source": [
    "myList = [5,2,1,4,3,5]"
   ]
  },
  {
   "cell_type": "code",
   "execution_count": 42,
   "metadata": {},
   "outputs": [],
   "source": [
    "def floydSolution():\n",
    "    slowPointer = 0\n",
    "    fastPointer = 0\n",
    "\n",
    "    while True:\n",
    "        slowPointer = myList[slowPointer]\n",
    "        fastPointer = myList[myList[fastPointer]]\n",
    "        if slowPointer == fastPointer :\n",
    "            break\n",
    "    \n",
    "    secondSlowPointer = 0\n",
    "\n",
    "    while True:\n",
    "        slowPointer = myList[slowPointer]\n",
    "        secondSlowPointer = myList[secondSlowPointer]\n",
    "        if slowPointer == secondSlowPointer :\n",
    "            return slowPointer\n",
    "\n"
   ]
  },
  {
   "cell_type": "code",
   "execution_count": 43,
   "metadata": {},
   "outputs": [
    {
     "data": {
      "text/plain": [
       "5"
      ]
     },
     "execution_count": 43,
     "metadata": {},
     "output_type": "execute_result"
    }
   ],
   "source": [
    "floydSolution()"
   ]
  },
  {
   "cell_type": "markdown",
   "metadata": {},
   "source": [
    "reverse string"
   ]
  },
  {
   "cell_type": "code",
   "execution_count": 49,
   "metadata": {},
   "outputs": [],
   "source": [
    "myArray = [\"h\",\"e\",\"l\",\"l\",\"o\"]\n",
    "def reverseRecursive(s,start : int,end : int):\n",
    "    if start > end:\n",
    "        return\n",
    "    s[start],s[end] = s[end], s[start]\n",
    "    reverseRecursive(s,start+1,end-1)\n",
    "    \n"
   ]
  },
  {
   "cell_type": "code",
   "execution_count": 50,
   "metadata": {},
   "outputs": [],
   "source": [
    "reverseRecursive(myArray,0,len(myArray)-1)"
   ]
  },
  {
   "cell_type": "code",
   "execution_count": 51,
   "metadata": {},
   "outputs": [
    {
     "data": {
      "text/plain": [
       "['o', 'l', 'l', 'e', 'h']"
      ]
     },
     "execution_count": 51,
     "metadata": {},
     "output_type": "execute_result"
    }
   ],
   "source": [
    "myArray"
   ]
  },
  {
   "cell_type": "code",
   "execution_count": 52,
   "metadata": {},
   "outputs": [
    {
     "name": "stdout",
     "output_type": "stream",
     "text": [
      "temhem\n"
     ]
    }
   ],
   "source": [
    "a=input(\"isminizi giriniz\")\n",
    "print(a[::-1])"
   ]
  },
  {
   "cell_type": "markdown",
   "metadata": {},
   "source": [
    "invert Treee"
   ]
  },
  {
   "cell_type": "code",
   "execution_count": 57,
   "metadata": {},
   "outputs": [],
   "source": [
    "class TreeNode:\n",
    "    def __init__(self,val=0,left=None,right=None):\n",
    "        self.val = val\n",
    "        self.left = left\n",
    "        self.right = right\n",
    "    \n",
    "class Solution:\n",
    "    def invertTree(self,root):\n",
    "        if root is None:\n",
    "            return None\n",
    "        \n",
    "        root.left, root.right = root.right , root.left\n",
    "\n",
    "        self.invertTree(root.left)\n",
    "        self.invertTree(root.right)\n",
    "\n",
    "        return root"
   ]
  },
  {
   "cell_type": "code",
   "execution_count": null,
   "metadata": {},
   "outputs": [],
   "source": []
  }
 ],
 "metadata": {
  "kernelspec": {
   "display_name": "Python 3",
   "language": "python",
   "name": "python3"
  },
  "language_info": {
   "codemirror_mode": {
    "name": "ipython",
    "version": 3
   },
   "file_extension": ".py",
   "mimetype": "text/x-python",
   "name": "python",
   "nbconvert_exporter": "python",
   "pygments_lexer": "ipython3",
   "version": "3.11.4"
  }
 },
 "nbformat": 4,
 "nbformat_minor": 2
}
